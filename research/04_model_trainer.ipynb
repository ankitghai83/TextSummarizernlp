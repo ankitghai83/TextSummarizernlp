{
 "cells": [
  {
   "cell_type": "code",
   "execution_count": 5,
   "metadata": {},
   "outputs": [],
   "source": [
    "#import os"
   ]
  },
  {
   "cell_type": "code",
   "execution_count": 6,
   "metadata": {},
   "outputs": [],
   "source": [
    "#pwd"
   ]
  },
  {
   "cell_type": "code",
   "execution_count": 7,
   "metadata": {},
   "outputs": [],
   "source": [
    "#os.chdir(\"../\")"
   ]
  },
  {
   "cell_type": "code",
   "execution_count": 8,
   "metadata": {},
   "outputs": [],
   "source": [
    "#%pwd"
   ]
  },
  {
   "cell_type": "code",
   "execution_count": 9,
   "metadata": {},
   "outputs": [],
   "source": [
    "## Create the entity\n",
    "from dataclasses import dataclass\n",
    "from pathlib import Path\n",
    "\n",
    "@dataclass(frozen=True)\n",
    "class ModelTrainerConfig:\n",
    "     root_dir:Path\n",
    "     data_path:Path\n",
    "     model_ckpt:Path\n",
    "     num_train_epochs:int\n",
    "     warmup_steps:int\n",
    "     per_device_train_batch_size:int\n",
    "     weight_decay:float\n",
    "     logging_steps:int\n",
    "     evaluation_strategy:str\n",
    "     eval_steps:int\n",
    "     save_steps:float\n",
    "     gradient_accumulation_steps:int\n"
   ]
  },
  {
   "cell_type": "code",
   "execution_count": 10,
   "metadata": {},
   "outputs": [],
   "source": [
    "## Create the configuration Manager module:\n",
    "from textSummarizer.constants import *\n",
    "from textSummarizer.utils.common import read_yaml,create_directories\n",
    "\n",
    "class ConfigurationManager:\n",
    "    def __init__(self,config_filepath=CONFIG_FILE_PATH,params_filepath=PARAM_FILE_PATH):\n",
    "        self.config = read_yaml(config_filepath)\n",
    "        self.params = read_yaml(params_filepath)\n",
    "\n",
    "        create_directories([self.config.artifacts_root])\n",
    "\n",
    "    def get_model_trainer_config(self) -> ModelTrainerConfig:\n",
    "        config=self.config.model_trainer\n",
    "        params=self.params.TrainingArguments\n",
    "\n",
    "        create_directories([config.root_dir])\n",
    "\n",
    "\n",
    "        model_trainer_config = ModelTrainerConfig(\n",
    "            root_dir=config.root_dir,\n",
    "            data_path=config.data_path,\n",
    "            model_ckpt=config.model_ckpt,\n",
    "            num_train_epochs=params.num_train_epochs,\n",
    "            warmup_steps=params.warmup_steps,\n",
    "            per_device_train_batch_size=params.per_device_train_batch_size,\n",
    "            #per_device_eval_batch_size=params.per_device_eval_batch_size,\n",
    "            weight_decay=params.weight_decay,\n",
    "            logging_steps=params.logging_steps,\n",
    "            evaluation_strategy=params.evaluation_strategy,\n",
    "            eval_steps=params.evaluation_strategy,\n",
    "            save_steps=params.save_steps,\n",
    "            gradient_accumulation_steps=params.gradient_accumulation_steps\n",
    "        )\n",
    "\n",
    "        return model_trainer_config"
   ]
  },
  {
   "cell_type": "code",
   "execution_count": 11,
   "metadata": {},
   "outputs": [
    {
     "name": "stderr",
     "output_type": "stream",
     "text": [
      "c:\\Users\\Ankit Ghai\\anaconda3\\envs\\textS\\lib\\site-packages\\tqdm\\auto.py:21: TqdmWarning: IProgress not found. Please update jupyter and ipywidgets. See https://ipywidgets.readthedocs.io/en/stable/user_install.html\n",
      "  from .autonotebook import tqdm as notebook_tqdm\n"
     ]
    },
    {
     "name": "stdout",
     "output_type": "stream",
     "text": [
      "[2025-02-23 13:28:41,582: INFO: config: PyTorch version 2.4.1 available.]\n"
     ]
    }
   ],
   "source": [
    "## Create component for the model trainer\n",
    "from transformers import TrainingArguments,Trainer\n",
    "from transformers import DataCollatorForSeq2Seq\n",
    "from transformers import AutoTokenizer,AutoModelForSeq2SeqLM\n",
    "from datasets import load_from_disk,load_dataset\n",
    "import torch"
   ]
  },
  {
   "cell_type": "code",
   "execution_count": 12,
   "metadata": {},
   "outputs": [],
   "source": [
    "class ModelTrainer:\n",
    "    def __init__(self,config:ModelTrainerConfig):\n",
    "        self.config=config\n",
    "\n",
    "\n",
    "    def train(self):\n",
    "        device=\"cuda\" if torch.cuda.is_available() else \"cpu\"\n",
    "        tokenizer=AutoTokenizer.from_pretrained(self.config.model_ckpt)\n",
    "        model_pegasus=AutoModelForSeq2SeqLM.from_pretrained(self.config.model_ckpt).to(device)\n",
    "        seq2seq_data_collator = DataCollatorForSeq2Seq(tokenizer, model=model_pegasus)\n",
    "\n",
    "        ## Loading the dataset\n",
    "        dataset_samsum_pt=load_from_disk(self.config.data_path)\n",
    "\n",
    "\n",
    "        ## TRaining ARguments\n",
    "        # trainer_args=TrainingArguments(\n",
    "        # output_dir=self.config.root_dir,num_train_epochs=self.config.num_train_epochs,warmup_steps=self.config.warmup_steps,\n",
    "        # per_device_train_batch_size=self.config.per_device_train_batch_size,per_device_eval_batch_size=self.config.per_device_eval_batch_size,\n",
    "        # weight_decay=self.config.weight_decay,logging_steps=self.config.logging_steps,evaluation_strategy=self.config.evaluation_strategy,\n",
    "        # eval_steps=self.config.eval_steps,save_steps=self.config.save_steps,gradient_accumulation_steps=self.config.gradient_accumulation_steps\n",
    "        # )\n",
    "\n",
    "\n",
    "        trainer_args=TrainingArguments(\n",
    "            output_dir=self.config.root_dir,num_train_epochs=1,warmup_steps=500,per_device_train_batch_size=1,\n",
    "            per_device_eval_batch_size=1,weight_decay=0.01,logging_steps=10,\n",
    "            evaluation_strategy='steps', eval_steps=500,save_steps=1e6,\n",
    "            gradient_accumulation_steps=16\n",
    "        )\n",
    "\n",
    "        trainer=Trainer(model=model_pegasus,args=trainer_args,tokenizer=tokenizer,data_collator=seq2seq_data_collator,\n",
    "                        train_dataset=dataset_samsum_pt[\"test\"],eval_dataset=dataset_samsum_pt['validation'])\n",
    "        \n",
    "\n",
    "\n",
    "        trainer.train()\n",
    "\n",
    "        ## Save model\n",
    "        model_pegasus.save_pretrained(\"pegasus-samsum-model\")\n",
    "\n",
    "        ## Save Tokenizers\n",
    "\n",
    "        tokenizer.save_pretrained(\"tokenizer\")\n",
    "\n",
    "\n"
   ]
  },
  {
   "cell_type": "code",
   "execution_count": null,
   "metadata": {},
   "outputs": [
    {
     "name": "stdout",
     "output_type": "stream",
     "text": [
      "[2025-02-23 13:28:41,845: INFO: common: yaml file: config\\config.yaml loaded successfully]\n",
      "[2025-02-23 13:28:41,848: INFO: common: yaml file: params.yaml loaded successfully]\n",
      "[2025-02-23 13:28:41,849: INFO: common: created directory at : artifacts]\n",
      "[2025-02-23 13:28:41,850: INFO: common: created directory at : artifacts/model_trainer]\n"
     ]
    },
    {
     "name": "stderr",
     "output_type": "stream",
     "text": [
      "c:\\Users\\Ankit Ghai\\anaconda3\\envs\\textS\\lib\\site-packages\\huggingface_hub\\file_download.py:140: UserWarning: `huggingface_hub` cache-system uses symlinks by default to efficiently store duplicated files but your machine does not support them in C:\\Users\\Ankit Ghai\\.cache\\huggingface\\hub\\models--google--pegasus-cnn_dailymail. Caching files will still work but in a degraded version that might require more space on your disk. This warning can be disabled by setting the `HF_HUB_DISABLE_SYMLINKS_WARNING` environment variable. For more details, see https://huggingface.co/docs/huggingface_hub/how-to-cache#limitations.\n",
      "To support symlinks on Windows, you either need to activate Developer Mode or to run Python as an administrator. In order to activate developer mode, see this article: https://docs.microsoft.com/en-us/windows/apps/get-started/enable-your-device-for-development\n",
      "  warnings.warn(message)\n",
      "Some weights of PegasusForConditionalGeneration were not initialized from the model checkpoint at google/pegasus-cnn_dailymail and are newly initialized: ['model.decoder.embed_positions.weight', 'model.encoder.embed_positions.weight']\n",
      "You should probably TRAIN this model on a down-stream task to be able to use it for predictions and inference.\n",
      "c:\\Users\\Ankit Ghai\\anaconda3\\envs\\textS\\lib\\site-packages\\transformers\\training_args.py:1568: FutureWarning: `evaluation_strategy` is deprecated and will be removed in version 4.46 of 🤗 Transformers. Use `eval_strategy` instead\n",
      "  warnings.warn(\n",
      "C:\\Temp\\ipykernel_32152\\3337696716.py:32: FutureWarning: `tokenizer` is deprecated and will be removed in version 5.0.0 for `Trainer.__init__`. Use `processing_class` instead.\n",
      "  trainer=Trainer(model=model_pegasus,args=trainer_args,tokenizer=tokenizer,data_collator=seq2seq_data_collator,\n",
      " 20%|█▉        | 10/51 [11:14<1:36:24, 141.09s/it]"
     ]
    },
    {
     "name": "stdout",
     "output_type": "stream",
     "text": [
      "{'loss': 3.1101, 'grad_norm': 511.2713928222656, 'learning_rate': 1.0000000000000002e-06, 'epoch': 0.2}\n"
     ]
    },
    {
     "name": "stderr",
     "output_type": "stream",
     "text": [
      " 39%|███▉      | 20/51 [23:28<48:01, 92.97s/it]   "
     ]
    },
    {
     "name": "stdout",
     "output_type": "stream",
     "text": [
      "{'loss': 3.0467, 'grad_norm': 253.44041442871094, 'learning_rate': 2.0000000000000003e-06, 'epoch': 0.39}\n"
     ]
    },
    {
     "name": "stderr",
     "output_type": "stream",
     "text": [
      " 59%|█████▉    | 30/51 [58:29<1:43:12, 294.90s/it]"
     ]
    },
    {
     "name": "stdout",
     "output_type": "stream",
     "text": [
      "{'loss': 3.1613, 'grad_norm': 166.07740783691406, 'learning_rate': 3e-06, 'epoch': 0.59}\n"
     ]
    },
    {
     "name": "stderr",
     "output_type": "stream",
     "text": [
      " 78%|███████▊  | 40/51 [1:33:40<41:20, 225.52s/it]  "
     ]
    },
    {
     "name": "stdout",
     "output_type": "stream",
     "text": [
      "{'loss': 2.9904, 'grad_norm': 321.72283935546875, 'learning_rate': 4.000000000000001e-06, 'epoch': 0.78}\n"
     ]
    },
    {
     "name": "stderr",
     "output_type": "stream",
     "text": [
      " 98%|█████████▊| 50/51 [1:50:12<01:12, 72.51s/it] "
     ]
    },
    {
     "name": "stdout",
     "output_type": "stream",
     "text": [
      "{'loss': 2.8546, 'grad_norm': 733.7205810546875, 'learning_rate': 5e-06, 'epoch': 0.98}\n"
     ]
    },
    {
     "name": "stderr",
     "output_type": "stream",
     "text": [
      "100%|██████████| 51/51 [1:50:47<00:00, 61.19s/it]c:\\Users\\Ankit Ghai\\anaconda3\\envs\\textS\\lib\\site-packages\\transformers\\modeling_utils.py:2817: UserWarning: Moving the following attributes in the config to the generation config: {'max_length': 128, 'min_length': 32, 'num_beams': 8, 'length_penalty': 0.8}. You are seeing this warning because you've set generation parameters in the model config, as opposed to in the generation config.\n",
      "  warnings.warn(\n",
      "100%|██████████| 51/51 [1:52:49<00:00, 132.73s/it]\n"
     ]
    },
    {
     "name": "stdout",
     "output_type": "stream",
     "text": [
      "{'train_runtime': 6769.3209, 'train_samples_per_second': 0.121, 'train_steps_per_second': 0.008, 'train_loss': 3.0233642727720973, 'epoch': 1.0}\n"
     ]
    }
   ],
   "source": [
    "## Create the pipeline\n",
    "\n",
    "try:\n",
    "    config = ConfigurationManager()\n",
    "    model_trainer_config = config.get_model_trainer_config()\n",
    "    model_trainer_config = ModelTrainer(config=model_trainer_config)\n",
    "    model_trainer_config.train()\n",
    "\n",
    "except Exception as e:\n",
    "    raise e"
   ]
  }
 ],
 "metadata": {
  "kernelspec": {
   "display_name": "textS",
   "language": "python",
   "name": "python3"
  },
  "language_info": {
   "codemirror_mode": {
    "name": "ipython",
    "version": 3
   },
   "file_extension": ".py",
   "mimetype": "text/x-python",
   "name": "python",
   "nbconvert_exporter": "python",
   "pygments_lexer": "ipython3",
   "version": "3.8.0"
  }
 },
 "nbformat": 4,
 "nbformat_minor": 2
}
